{
 "cells": [
  {
   "cell_type": "markdown",
   "id": "611cc9da",
   "metadata": {},
   "source": [
    "## 1.1 Write a Python Program to implement your own myreduce() function which works exactly  like Python's built-in function reduce()"
   ]
  },
  {
   "cell_type": "code",
   "execution_count": 14,
   "id": "60736f5f",
   "metadata": {},
   "outputs": [],
   "source": [
    "def myreduce(any_function, iterable_sequence):\n",
    "    result = iterable_sequence[0]\n",
    "    \n",
    "    for item in iterable_sequence[1:]:\n",
    "        result = any_function(result, item)\n",
    "        \n",
    "    return result"
   ]
  },
  {
   "cell_type": "code",
   "execution_count": 28,
   "id": "06655235",
   "metadata": {},
   "outputs": [],
   "source": [
    "# Check 1: Using defined function\n",
    "def add(a,b):\n",
    "    return a+b\n",
    "\n",
    "se = [1,2,3,4,5,6]"
   ]
  },
  {
   "cell_type": "code",
   "execution_count": 23,
   "id": "ab36ea8f",
   "metadata": {},
   "outputs": [
    {
     "data": {
      "text/plain": [
       "21"
      ]
     },
     "execution_count": 23,
     "metadata": {},
     "output_type": "execute_result"
    }
   ],
   "source": [
    "myreduce(add,se)"
   ]
  },
  {
   "cell_type": "code",
   "execution_count": 29,
   "id": "96dcc8eb",
   "metadata": {},
   "outputs": [
    {
     "data": {
      "text/plain": [
       "720"
      ]
     },
     "execution_count": 29,
     "metadata": {},
     "output_type": "execute_result"
    }
   ],
   "source": [
    "# Check 2: Using lambda function\n",
    "myreduce(lambda a,b:a*b, se)"
   ]
  },
  {
   "cell_type": "markdown",
   "id": "a456592e",
   "metadata": {},
   "source": [
    "## 1.2 Write a Python program to implement your own myfilter() function which works exactly  like Python's built-in function filter() "
   ]
  },
  {
   "cell_type": "code",
   "execution_count": 24,
   "id": "3e0331fb",
   "metadata": {},
   "outputs": [],
   "source": [
    "def myfilter(any_function, iterable_sequence):\n",
    "    result = []\n",
    "    \n",
    "    for item in iterable_sequence:\n",
    "        if any_function(item):\n",
    "            result.append(item)\n",
    "    return result"
   ]
  },
  {
   "cell_type": "code",
   "execution_count": 25,
   "id": "ecce27fe",
   "metadata": {},
   "outputs": [],
   "source": [
    "# Check1 : Using defined function\n",
    "def greater_than_2(a):\n",
    "    if a>2:\n",
    "        return a\n",
    "    \n",
    "se  = [1,1.21,1.5,2,3,2,3,4,5,56]"
   ]
  },
  {
   "cell_type": "code",
   "execution_count": 26,
   "id": "0227c23c",
   "metadata": {},
   "outputs": [
    {
     "data": {
      "text/plain": [
       "[3, 3, 4, 5, 56]"
      ]
     },
     "execution_count": 26,
     "metadata": {},
     "output_type": "execute_result"
    }
   ],
   "source": [
    "myfilter(greater_than_2, se)"
   ]
  },
  {
   "cell_type": "code",
   "execution_count": 33,
   "id": "000f462a",
   "metadata": {},
   "outputs": [
    {
     "data": {
      "text/plain": [
       "['23', 'Ishan', 'Dhankhar']"
      ]
     },
     "execution_count": 33,
     "metadata": {},
     "output_type": "execute_result"
    }
   ],
   "source": [
    "# Check 2 : Using lambda function\n",
    "myfilter(lambda a:a if type(a)==str else False, ['23',1,2,3,4,'Ishan','Dhankhar'])"
   ]
  },
  {
   "cell_type": "markdown",
   "id": "fc50977c",
   "metadata": {},
   "source": [
    "## 2. Implement List comprehensions to produce the following lists.  \n",
    "## Write List comprehensions to produce the following Lists \n",
    "### ['A', 'C', 'A', 'D', 'G', 'I', ’L’, ‘ D’] \n",
    "### ['x', 'xx', 'xxx', 'xxxx', 'y', 'yy', 'yyy', 'yyyy', 'z', 'zz', 'zzz', 'zzzz']\n",
    "### ['x', 'y', 'z', 'xx', 'yy', 'zz', 'xxx', 'yyy', 'zzz', 'xxxx', 'yyyy', 'zzzz']\n",
    "### [[2], [3], [4], [3], [4], [5], [4], [5], [6]] \n",
    "### [[2, 3, 4, 5], [3, 4, 5, 6],[4, 5, 6, 7], [5, 6, 7, 8]]\n",
    "### [(1, 1), (2, 1), (3, 1), (1, 2), (2, 2), (3, 2), (1, 3), (2, 3), (3, 3)]"
   ]
  },
  {
   "cell_type": "code",
   "execution_count": 6,
   "id": "2bdfa0ee",
   "metadata": {},
   "outputs": [
    {
     "name": "stdout",
     "output_type": "stream",
     "text": [
      "['A', 'C', 'A', 'D', 'G', 'I', 'L', 'D']\n"
     ]
    }
   ],
   "source": [
    "# ['A', 'C', 'A', 'D', 'G', 'I', ’L’, ‘ D’] \n",
    "string = 'AcadgIlD'\n",
    "lst = [word.upper() for word in string1]\n",
    "print(lst1)"
   ]
  },
  {
   "cell_type": "code",
   "execution_count": 7,
   "id": "fea80f22",
   "metadata": {},
   "outputs": [
    {
     "name": "stdout",
     "output_type": "stream",
     "text": [
      "['x', 'xx', 'xxx', 'xxxx', 'y', 'yy', 'yyy', 'yyyy', 'z', 'zz', 'zzz', 'zzzz']\n"
     ]
    }
   ],
   "source": [
    "# ['x', 'xx', 'xxx', 'xxxx', 'y', 'yy', 'yyy', 'yyyy', 'z', 'zz', 'zzz', 'zzzz']\n",
    "string1 = 'xyz'\n",
    "lst1 = [i*n for i in string1 for n in range(1,5)]\n",
    "print(lst1)"
   ]
  },
  {
   "cell_type": "code",
   "execution_count": 8,
   "id": "15a63f2e",
   "metadata": {},
   "outputs": [
    {
     "name": "stdout",
     "output_type": "stream",
     "text": [
      "['x', 'y', 'z', 'xx', 'yy', 'zz', 'xxx', 'yyy', 'zzz', 'xxxx', 'yyyy', 'zzzz']\n"
     ]
    }
   ],
   "source": [
    "# ['x', 'y', 'z', 'xx', 'yy', 'zz', 'xxx', 'yyy', 'zzz', 'xxxx', 'yyyy', 'zzzz'] \n",
    "string2 = 'xyz'\n",
    "lst2 = [i*n for n in range(1,5) for i in string2]\n",
    "print(lst2)"
   ]
  },
  {
   "cell_type": "code",
   "execution_count": 9,
   "id": "feb5b9fa",
   "metadata": {},
   "outputs": [
    {
     "name": "stdout",
     "output_type": "stream",
     "text": [
      "[[2], [3], [4], [3], [4], [5], [4], [5], [6]]\n"
     ]
    }
   ],
   "source": [
    "# [[2], [3], [4], [3], [4], [5], [4], [5], [6]] \n",
    "numbers = [2,3,4]\n",
    "lst3 = [[i+n] for i in numbers for n in range(0,3)]\n",
    "print(lst3)"
   ]
  },
  {
   "cell_type": "code",
   "execution_count": 11,
   "id": "d1ead5d5",
   "metadata": {},
   "outputs": [
    {
     "name": "stdout",
     "output_type": "stream",
     "text": [
      "[[2, 3, 4, 5], [3, 4, 5, 6], [4, 5, 6, 7], [5, 6, 7, 8]]\n"
     ]
    }
   ],
   "source": [
    "# [[2, 3, 4, 5], [3, 4, 5, 6],[4, 5, 6, 7], [5, 6, 7, 8]]\n",
    "numbers1 = [2,3,4,5]\n",
    "lst4 = [[i+n for i in numbers1 ] for n in range(0,4)]\n",
    "print(lst4)"
   ]
  },
  {
   "cell_type": "code",
   "execution_count": 13,
   "id": "278af482",
   "metadata": {},
   "outputs": [
    {
     "name": "stdout",
     "output_type": "stream",
     "text": [
      "[(1, 1), (1, 2), (1, 3), (2, 1), (2, 2), (2, 3), (3, 1), (3, 2), (3, 3)]\n"
     ]
    }
   ],
   "source": [
    "# [(1, 1), (2, 1), (3, 1), (1, 2), (2, 2), (3, 2), (1, 3), (2, 3), (3, 3)]\n",
    "numbers2 = [1,2,3]\n",
    "lst5 = [(a,b) for a in numbers2 for b in numbers2]\n",
    "print(lst5)"
   ]
  },
  {
   "cell_type": "code",
   "execution_count": null,
   "id": "83e02ccd",
   "metadata": {},
   "outputs": [],
   "source": []
  }
 ],
 "metadata": {
  "kernelspec": {
   "display_name": "Python 3",
   "language": "python",
   "name": "python3"
  },
  "language_info": {
   "codemirror_mode": {
    "name": "ipython",
    "version": 3
   },
   "file_extension": ".py",
   "mimetype": "text/x-python",
   "name": "python",
   "nbconvert_exporter": "python",
   "pygments_lexer": "ipython3",
   "version": "3.8.8"
  }
 },
 "nbformat": 4,
 "nbformat_minor": 5
}
